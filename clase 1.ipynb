{
 "cells": [
  {
   "cell_type": "code",
   "execution_count": 6,
   "id": "98cd1866",
   "metadata": {},
   "outputs": [
    {
     "name": "stdout",
     "output_type": "stream",
     "text": [
      "h\n",
      "e\n",
      "l\n",
      "l\n",
      "o\n",
      ",\n",
      " \n",
      "w\n",
      "o\n",
      "r\n",
      "d\n"
     ]
    }
   ],
   "source": [
    "for letter in \"hello, word\":\n",
    "    print (letter)\n",
    "    "
   ]
  },
  {
   "cell_type": "code",
   "execution_count": 8,
   "id": "8c6f9135",
   "metadata": {},
   "outputs": [],
   "source": [
    "\n",
    "#for  in \"word\":\n",
    " #   print(\"nombre\")"
   ]
  },
  {
   "cell_type": "code",
   "execution_count": 5,
   "id": "6e7f3b23",
   "metadata": {},
   "outputs": [],
   "source": [
    "def is_anagram(palabra_1, palabra_2):\n",
    "    return sorted(palabra_1) == sorted(palabra_2)"
   ]
  },
  {
   "cell_type": "code",
   "execution_count": 16,
   "id": "da954ef0",
   "metadata": {},
   "outputs": [
    {
     "data": {
      "text/plain": [
       "True"
      ]
     },
     "execution_count": 16,
     "metadata": {},
     "output_type": "execute_result"
    }
   ],
   "source": [
    "is_anagram(\"heart\", \"earth\")"
   ]
  },
  {
   "cell_type": "code",
   "execution_count": 9,
   "id": "a2cab806",
   "metadata": {},
   "outputs": [],
   "source": [
    "#def is_anagram(string_a, string_b):\n",
    "#    an1 =''.join(string_a,split())\n",
    "#    an2 =''.join(string_b,split())\n",
    "    \n",
    "    \n",
    "#    if len(an1) != len(an2):\n",
    "#        return False\n",
    "#    char_times_a = dict()\n",
    "#    char_times_b = dict()\n",
    "    \n",
    "#    for i in range(len(string_a)):\n",
    "#        if string_a[i] not in char_times_a.keys():\n",
    "#            char_times_a[string_a[i]]=1\n",
    "#        else:\n",
    "#                char_times_a[string_a[i]]!=1\n",
    "#        if string_b[i] not in char_times_b.keys():\n",
    "#            char_times_b[string_b[i]]=1\n",
    "#        else:\n",
    "#                char_times_b[string_b[i]]!=1\n",
    "#    return char_times_a == char_times_b\n",
    "\n",
    "#string_a=\"I am Voldemort\"\n",
    "#string_b=\"Tom Marvolo Ridlle\"\n",
    "#is_anagram(\"I am lord Voldemort\", \"Tom Marvolo Riddle\")\n",
    "        "
   ]
  },
  {
   "cell_type": "code",
   "execution_count": 18,
   "id": "29491f5f",
   "metadata": {},
   "outputs": [],
   "source": [
    "def is_anagram(string_a, string_b):\n",
    "    p1 = \"\".join(string_a.split()) \n",
    "    p2 = \"\".join(string_b.split())\n",
    "    \n",
    "    if len(p1) != len(p2):\n",
    "        return False\n",
    "    else:\n",
    "        pa1= p1.lower() \n",
    "        pa2 = p2.lower() \n",
    "    char_times_a = dict()\n",
    "    char_times_b = dict()\n",
    "    for i in range(len(pa1)):\n",
    "        if pa1[i] not in char_times_a.keys():\n",
    "            char_times_a[pa1[i]] = 1\n",
    "        else:\n",
    "            char_times_a[pa1[i]] += 1\n",
    "        if pa2[i] not in char_times_b.keys():\n",
    "            char_times_b[pa2[i]] = 1\n",
    "        else:\n",
    "            char_times_b[pa2[i]] += 1\n",
    "            \n",
    "    return char_times_a == char_times_b"
   ]
  },
  {
   "cell_type": "code",
   "execution_count": 19,
   "id": "3758b47a",
   "metadata": {},
   "outputs": [
    {
     "data": {
      "text/plain": [
       "True"
      ]
     },
     "execution_count": 19,
     "metadata": {},
     "output_type": "execute_result"
    }
   ],
   "source": [
    "is_anagram(\"I am lord Voldemort\", \"Tom Marvolo Riddle\")"
   ]
  },
  {
   "cell_type": "code",
   "execution_count": 20,
   "id": "d6ffc9e6",
   "metadata": {},
   "outputs": [],
   "source": [
    "#Anagrama otra version\n",
    "\n",
    "def anagrama(palabra1, palabra2):\n",
    "    # Convertimos ambas a minúsculas\n",
    "    palabra1 = palabra1.lower()\n",
    "    palabra2 = palabra2.lower()\n",
    "    # Luego convertimos las cadenas a arreglos, porque vamos a ordenarlas pero es más sencillo ordenar un arreglo\n",
    "    palabra1_arreglo = list(palabra1)\n",
    "    palabra2_arreglo = list(palabra2)\n",
    "    # Las ordenamos\n",
    "    palabra1_arreglo.sort()\n",
    "    palabra2_arreglo.sort()\n",
    "    # Convertir de vuelta a cadena\n",
    "    palabra1_ordenada = \"\".join(palabra1_arreglo)\n",
    "    palabra2_ordenada = \"\".join(palabra2_arreglo)\n",
    "    # Y finalmente comprobar si son iguales\n",
    "    return palabra1_ordenada == palabra2_ordenada"
   ]
  },
  {
   "cell_type": "code",
   "execution_count": 21,
   "id": "56869f32",
   "metadata": {},
   "outputs": [
    {
     "data": {
      "text/plain": [
       "True"
      ]
     },
     "execution_count": 21,
     "metadata": {},
     "output_type": "execute_result"
    }
   ],
   "source": [
    "anagrama(\"cars\", \"scar\")"
   ]
  },
  {
   "cell_type": "code",
   "execution_count": null,
   "id": "00372467",
   "metadata": {},
   "outputs": [],
   "source": []
  }
 ],
 "metadata": {
  "kernelspec": {
   "display_name": "Python 3 (ipykernel)",
   "language": "python",
   "name": "python3"
  },
  "language_info": {
   "codemirror_mode": {
    "name": "ipython",
    "version": 3
   },
   "file_extension": ".py",
   "mimetype": "text/x-python",
   "name": "python",
   "nbconvert_exporter": "python",
   "pygments_lexer": "ipython3",
   "version": "3.8.10"
  }
 },
 "nbformat": 4,
 "nbformat_minor": 5
}
