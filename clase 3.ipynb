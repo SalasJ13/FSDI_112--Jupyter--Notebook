{
 "cells": [
  {
   "cell_type": "code",
   "execution_count": 12,
   "id": "8cb43b80",
   "metadata": {},
   "outputs": [
    {
     "name": "stdout",
     "output_type": "stream",
     "text": [
      "0\n"
     ]
    }
   ],
   "source": [
    "class Queue2Stacks:\n",
    "    def __init__(self):\n",
    "#Arreglos donde se van a guardar los num 0,1,2,3,4,5\n",
    "    #Esto se muestra en el **dequeue**\n",
    "# STACK 1 = 0,1,2,3,4,5(se elimina 5[es el ultimo[usando POP]])\n",
    "# STACK 2 = 5 (se guarda aqui[usando APPEND])\n",
    "        self.stack1 = []\n",
    "        self.stack2 = []\n",
    "    def enqueue(self, element):\n",
    "        self.stack1.append(element)\n",
    "        \n",
    "    def dequeue(self):\n",
    "        while self.stack1:\n",
    "            element = self.stack1.pop()\n",
    "            self.stack2.append(element)\n",
    "        return self.stack2.pop()\n",
    "        \n",
    "def test():\n",
    "    q=Queue2Stacks()\n",
    "    for i in range(1):\n",
    "            q.enqueue(i)\n",
    "    for i in range(1):\n",
    "        print(q.dequeue())\n",
    "\n",
    "\n",
    "test()"
   ]
  },
  {
   "cell_type": "code",
   "execution_count": 15,
   "id": "13cb4084",
   "metadata": {},
   "outputs": [
    {
     "data": {
      "text/plain": [
       "3628800"
      ]
     },
     "execution_count": 15,
     "metadata": {},
     "output_type": "execute_result"
    }
   ],
   "source": [
    "#Funcion para el Factorial\n",
    "def fact(n):\n",
    "    if n == 0:\n",
    "        return 1\n",
    "    return n * fact(n-1)\n",
    "\n",
    "fact(10)"
   ]
  },
  {
   "cell_type": "code",
   "execution_count": 16,
   "id": "3eeb9a50",
   "metadata": {},
   "outputs": [
    {
     "data": {
      "text/plain": [
       "55"
      ]
     },
     "execution_count": 16,
     "metadata": {},
     "output_type": "execute_result"
    }
   ],
   "source": [
    "#Funcion para Fibonacci\n",
    "def fib(n):\n",
    "    if n < 2:\n",
    "        return n\n",
    "    return fib(n-1) + fib(n-2)\n",
    "\n",
    "fib(10) "
   ]
  },
  {
   "cell_type": "code",
   "execution_count": 17,
   "id": "6c4f5b76",
   "metadata": {},
   "outputs": [
    {
     "data": {
      "text/plain": [
       "354224848179261915075"
      ]
     },
     "execution_count": 17,
     "metadata": {},
     "output_type": "execute_result"
    }
   ],
   "source": [
    "# Otra version para Fibonacci\n",
    "from functools import lru_cache\n",
    "\n",
    "@lru_cache\n",
    "def fib_2(n):\n",
    "    if n < 2:\n",
    "        return n\n",
    "    return fib_2(n-1) + fib_2(n-2)\n",
    "fib_2(100)"
   ]
  },
  {
   "cell_type": "code",
   "execution_count": 23,
   "id": "5ee91050",
   "metadata": {},
   "outputs": [
    {
     "data": {
      "text/plain": [
       "354224848179261915075"
      ]
     },
     "execution_count": 23,
     "metadata": {},
     "output_type": "execute_result"
    }
   ],
   "source": [
    "# Otra version para Fibonacci\n",
    "fib_numbers = {}\n",
    "\n",
    "def fib_3(n):\n",
    "    if n in fib_numbers.keys():\n",
    "        return fib_numbers.get(n)\n",
    "    else:\n",
    "        if n < 2:\n",
    "            return n\n",
    "        fib_numbers[n] = fib_3(n-1) + fib_3(n-2)\n",
    "        return fib_numbers.get(n)\n",
    "\n",
    "fib_3(100)  "
   ]
  },
  {
   "cell_type": "code",
   "execution_count": 9,
   "id": "539ceb7e",
   "metadata": {},
   "outputs": [],
   "source": [
    "class Node:\n",
    "    def __init__(self, data):\n",
    "        self.data = data\n",
    "        self.next = None"
   ]
  },
  {
   "cell_type": "code",
   "execution_count": 10,
   "id": "03beef62",
   "metadata": {},
   "outputs": [
    {
     "name": "stdout",
     "output_type": "stream",
     "text": [
      "0\n",
      "1\n",
      "2\n",
      "[1, 2, 3]\n"
     ]
    }
   ],
   "source": [
    "#Mostrar NODOS\n",
    "head = Node(0)\n",
    "\n",
    "node1 = Node(1)\n",
    "\n",
    "head.next = node1\n",
    "\n",
    "node2 = Node(2)\n",
    "\n",
    "node1.next = node2\n",
    "\n",
    "current = head\n",
    "while current: \n",
    "    print(current.data)\n",
    "    current = current.next\n",
    "reg_python_list = [1,2,3,]\n",
    "print(reg_python_list)"
   ]
  },
  {
   "cell_type": "code",
   "execution_count": 11,
   "id": "d236777b",
   "metadata": {},
   "outputs": [],
   "source": [
    "class SinglyLinkedList:\n",
    "    def __init__(self):\n",
    "        self.head = None\n",
    "        \n",
    "    def append(self, item):\n",
    "        if not self.head:\n",
    "            self.head = Node(item)\n",
    "        else:\n",
    "            current = self.head\n",
    "            while current.next:\n",
    "                current = current.next\n",
    "            current.next = Node(item)\n",
    "            \n",
    "    def __str__(self):\n",
    "        out_str = \"[\"\n",
    "        current = self.head\n",
    "        while current.next:\n",
    "            out_str += \" %s,\"  % str(current.data)\n",
    "            current = current.next\n",
    "        out_str += \" %s]\" % current.data\n",
    "        return out_str"
   ]
  },
  {
   "cell_type": "code",
   "execution_count": 12,
   "id": "88d249a0",
   "metadata": {},
   "outputs": [
    {
     "name": "stdout",
     "output_type": "stream",
     "text": [
      "[ 0, 1, 2, 3, 4]\n"
     ]
    }
   ],
   "source": [
    "sll = SinglyLinkedList()\n",
    "\n",
    "for i in range(5):\n",
    "    sll.append(i)\n",
    "    \n",
    "print(sll)"
   ]
  },
  {
   "cell_type": "code",
   "execution_count": null,
   "id": "1b6d5a45",
   "metadata": {},
   "outputs": [],
   "source": [
    "#Clase 3 - Tarea 3"
   ]
  }
 ],
 "metadata": {
  "kernelspec": {
   "display_name": "Python 3 (ipykernel)",
   "language": "python",
   "name": "python3"
  },
  "language_info": {
   "codemirror_mode": {
    "name": "ipython",
    "version": 3
   },
   "file_extension": ".py",
   "mimetype": "text/x-python",
   "name": "python",
   "nbconvert_exporter": "python",
   "pygments_lexer": "ipython3",
   "version": "3.8.10"
  }
 },
 "nbformat": 4,
 "nbformat_minor": 5
}
