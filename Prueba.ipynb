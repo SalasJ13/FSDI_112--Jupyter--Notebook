{
 "cells": [
  {
   "cell_type": "code",
   "execution_count": 1,
   "id": "183de52c",
   "metadata": {},
   "outputs": [
    {
     "name": "stdout",
     "output_type": "stream",
     "text": [
      "True\n",
      "False\n",
      "1 5\n",
      "2 5\n",
      "True\n"
     ]
    }
   ],
   "source": [
    "class Queue:\n",
    "\n",
    "\tdef __init__(self):\n",
    "\t\tself.elements = []\n",
    "\n",
    "\tdef enqueue(self, data):\n",
    "\t\tself.elements.append(data)\n",
    "\t\treturn data\n",
    "\n",
    "\tdef dequeue(self):\n",
    "\t\treturn self.elements.pop(0)\n",
    "\n",
    "\tdef rear(self):\n",
    "\t\treturn self.elements[-1]\n",
    "\n",
    "\tdef front(self):\n",
    "\t\treturn self.elements[0]\n",
    "\n",
    "\tdef is_empty(self):\n",
    "\t\treturn len(self.elements) == 0\n",
    "\n",
    "if __name__ == '__main__':\n",
    "\tqueue = Queue()\n",
    "\n",
    "\t## checking is_empty method -> True\n",
    "\tprint(queue.is_empty())\n",
    "\n",
    "\t## adding the elements\n",
    "\tqueue.enqueue(1)\n",
    "\tqueue.enqueue(2)\n",
    "\tqueue.enqueue(3)\n",
    "\tqueue.enqueue(4)\n",
    "\tqueue.enqueue(5)\n",
    "\n",
    "\t## again checking is_empty method -> False\n",
    "\tprint(queue.is_empty())\n",
    "\n",
    "\t## printing the front and rear elements using front and rear methods respectively -> 1, 5\n",
    "\tprint(queue.front(), end=' ')\n",
    "\tprint(queue.rear())\n",
    "\n",
    "\t## removing the element -> 1\n",
    "\tqueue.dequeue()\n",
    "\n",
    "\t## checking the front and rear elements using front and rear methods respectively -> 2 5\n",
    "\tprint(queue.front(), end=' ')\n",
    "\tprint(queue.rear())\n",
    "\n",
    "\t## removing all the elements\n",
    "\tqueue.dequeue()\n",
    "\tqueue.dequeue()\n",
    "\tqueue.dequeue()\n",
    "\tqueue.dequeue()\n",
    "\n",
    "\t## checking the is_empty method for the last time -> True\n",
    "\tprint(queue.is_empty())"
   ]
  },
  {
   "cell_type": "code",
   "execution_count": null,
   "id": "ab85a963",
   "metadata": {},
   "outputs": [],
   "source": []
  }
 ],
 "metadata": {
  "kernelspec": {
   "display_name": "Python 3 (ipykernel)",
   "language": "python",
   "name": "python3"
  },
  "language_info": {
   "codemirror_mode": {
    "name": "ipython",
    "version": 3
   },
   "file_extension": ".py",
   "mimetype": "text/x-python",
   "name": "python",
   "nbconvert_exporter": "python",
   "pygments_lexer": "ipython3",
   "version": "3.8.10"
  }
 },
 "nbformat": 4,
 "nbformat_minor": 5
}
