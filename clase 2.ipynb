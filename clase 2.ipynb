{
 "cells": [
  {
   "cell_type": "code",
   "execution_count": 1,
   "id": "f8d5c058",
   "metadata": {},
   "outputs": [],
   "source": [
    "class Stack:\n",
    "    def __init__(self):\n",
    "        self.items =[]\n",
    "        \n",
    "    def is_empty(self):\n",
    "        return self.items == []\n",
    "    \n",
    "    def push(self, item):\n",
    "        self.items.append(item)\n",
    "        \n",
    "    def pop(self):\n",
    "        return self.items.pop()\n",
    "    \n",
    "    def peek(self):\n",
    "        return self.item[len(self.items)-1]\n",
    "    \n",
    "    def size(self):\n",
    "        return len(self.items)"
   ]
  },
  {
   "cell_type": "code",
   "execution_count": 29,
   "id": "85bc2c16",
   "metadata": {},
   "outputs": [],
   "source": [
    "#Lo que hice :( #\n",
    "#def reverse_str(name):\n",
    " #   n = 'hello'\n",
    "  #  reverse = name.split(n)\n",
    "   # print(reverse)"
   ]
  },
  {
   "cell_type": "code",
   "execution_count": 1,
   "id": "06625d71",
   "metadata": {},
   "outputs": [
    {
     "data": {
      "text/plain": [
       "'olleh'"
      ]
     },
     "execution_count": 1,
     "metadata": {},
     "output_type": "execute_result"
    }
   ],
   "source": [
    "#Version del profe\n",
    "def reverse_str(n):\n",
    "    return n[::-1]\n",
    "reverse_str(\"hello\")"
   ]
  },
  {
   "cell_type": "code",
   "execution_count": 48,
   "id": "b5f40b60",
   "metadata": {},
   "outputs": [
    {
     "data": {
      "text/plain": [
       "' aloh'"
      ]
     },
     "execution_count": 48,
     "metadata": {},
     "output_type": "execute_result"
    }
   ],
   "source": [
    "#version utilizando la Clase Stack\n",
    "def reverse_str(s):\n",
    "    stack = Stack()\n",
    "    for letter in s:\n",
    "        stack.push(letter)\n",
    "    output=\" \"\n",
    "    while stack.is_empty() == False:\n",
    "        output+=stack.pop()\n",
    "    return output\n",
    "\n",
    "reverse_str(\"hola\")\n",
    "    "
   ]
  },
  {
   "cell_type": "code",
   "execution_count": 5,
   "id": "7133df93",
   "metadata": {},
   "outputs": [],
   "source": [
    "#Funcion para un identificar un palindrome\n",
    "def is_palindrome(mystring):\n",
    "    pivot1= len(mystring)-1\n",
    "    pivot2= 0\n",
    "    #last_char = mystring[len(mystring)-1]\n",
    "    #first_char = mystring[0]\n",
    "    while pivot2 < pivot1:\n",
    "        if mystring[pivot1] != mystring[pivot2]:\n",
    "            return False\n",
    "        pivot1 +=1\n",
    "        pivot2 -=1\n",
    "    return True\n",
    "        "
   ]
  },
  {
   "cell_type": "code",
   "execution_count": 6,
   "id": "ff5db976",
   "metadata": {},
   "outputs": [],
   "source": [
    "#Ejmplo con Queue\n",
    "class Queue:\n",
    "    def __init__(self):\n",
    "        self.items =[]\n",
    "        \n",
    "    def is_empaty(self):\n",
    "        return self.items ==[]\n",
    "    \n",
    "    def enqueue(self, item):\n",
    "        self.items.insert(0,item)\n",
    "        \n",
    "    def dequeue(self):\n",
    "        return self.items.pop()\n",
    "    \n",
    "    def size(self):\n",
    "        return len(self.items)"
   ]
  },
  {
   "cell_type": "code",
   "execution_count": 7,
   "id": "57554ee7",
   "metadata": {},
   "outputs": [
    {
     "ename": "AttributeError",
     "evalue": "'Queue' object has no attribute 'is_empty'",
     "output_type": "error",
     "traceback": [
      "\u001b[0;31m---------------------------------------------------------------------------\u001b[0m",
      "\u001b[0;31mAttributeError\u001b[0m                            Traceback (most recent call last)",
      "Input \u001b[0;32mIn [7]\u001b[0m, in \u001b[0;36m<cell line: 6>\u001b[0;34m()\u001b[0m\n\u001b[1;32m      3\u001b[0m \u001b[38;5;28;01mfor\u001b[39;00m letter \u001b[38;5;129;01min\u001b[39;00m mystring:\n\u001b[1;32m      4\u001b[0m     queue\u001b[38;5;241m.\u001b[39menqueue(letter)\n\u001b[0;32m----> 6\u001b[0m \u001b[38;5;28;01mwhile\u001b[39;00m \u001b[43mqueue\u001b[49m\u001b[38;5;241;43m.\u001b[39;49m\u001b[43mis_empty\u001b[49m() \u001b[38;5;241m!=\u001b[39m \u001b[38;5;28;01mTrue\u001b[39;00m:\n\u001b[1;32m      7\u001b[0m     \u001b[38;5;28mprint\u001b[39m(queue\u001b[38;5;241m.\u001b[39mdequeue())\n",
      "\u001b[0;31mAttributeError\u001b[0m: 'Queue' object has no attribute 'is_empty'"
     ]
    }
   ],
   "source": [
    "mystring = \"Hola\"\n",
    "queue = Queue()\n",
    "for letter in mystring:\n",
    "    queue.enqueue(letter)\n",
    "    \n",
    "while queue.is_empty() != True:\n",
    "    print(queue.dequeue())"
   ]
  },
  {
   "cell_type": "code",
   "execution_count": null,
   "id": "324c7dbf",
   "metadata": {},
   "outputs": [],
   "source": [
    "#    string1 = \"(((([[[[{{{{}}}}]]]]))))\"    # balanced\n",
    "#    string2 = \"()()()[][](((([[[{}]]]))))\"  # also balanced\n",
    "#    string3 = \"((([[][][]])))\"              # balanced as well\n",
    "def balance_check(s):\n",
    "    # balance = '[]'\n",
    "    if len(s)%2 != 0:\n",
    "        return False\n",
    "    opening = set(\"({[\")\n",
    "    matches = set([\n",
    "        (\"(\",\")\"),\n",
    "        (\"[\",\"]\"),\n",
    "        (\"{\",\"}\"),\n",
    "    ])\n",
    "    stack = Stack()\n",
    "    for paren in s:\n",
    "        if paren in opening:\n",
    "            stack.push(paren)\n",
    "        else:\n",
    "            if stack.is_empaty():\n",
    "                return False\n",
    "            last_open = stack.pop()\n",
    "            if (last_open, paren) not in matches:\n",
    "                return False\n",
    "        return stack.is_empty()\n",
    "        \n",
    "\n"
   ]
  }
 ],
 "metadata": {
  "kernelspec": {
   "display_name": "Python 3 (ipykernel)",
   "language": "python",
   "name": "python3"
  },
  "language_info": {
   "codemirror_mode": {
    "name": "ipython",
    "version": 3
   },
   "file_extension": ".py",
   "mimetype": "text/x-python",
   "name": "python",
   "nbconvert_exporter": "python",
   "pygments_lexer": "ipython3",
   "version": "3.8.10"
  }
 },
 "nbformat": 4,
 "nbformat_minor": 5
}
